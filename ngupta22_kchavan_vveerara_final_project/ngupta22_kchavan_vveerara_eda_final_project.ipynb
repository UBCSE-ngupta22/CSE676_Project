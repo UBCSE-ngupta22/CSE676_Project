{
 "cells": [
  {
   "cell_type": "markdown",
   "metadata": {},
   "source": [
    "# Fine-Tuning GPT for Personalized Recipe Recommendation and Generating Visualizations with GANs"
   ]
  },
  {
   "cell_type": "code",
   "execution_count": 136,
   "metadata": {},
   "outputs": [],
   "source": [
    "import pandas as pd\n",
    "import numpy as np\n",
    "import matplotlib.pyplot as plt\n",
    "import seaborn as sns\n",
    "import re\n",
    "import random\n",
    "import torch\n",
    "from torch.utils.data import Dataset, DataLoader\n",
    "from transformers import GPT2LMHeadModel, GPT2Tokenizer"
   ]
  },
  {
   "cell_type": "markdown",
   "metadata": {},
   "source": [
    "## 1. Data Preprocessing and Analysis\n",
    "\n",
    "Dataset link: [Food.com - Recipes and Reviews](https://www.kaggle.com/datasets/irkaal/foodcom-recipes-and-reviews)"
   ]
  },
  {
   "cell_type": "markdown",
   "metadata": {},
   "source": [
    "### Loading the Datasets"
   ]
  },
  {
   "cell_type": "code",
   "execution_count": 137,
   "metadata": {},
   "outputs": [],
   "source": [
    "# Load the datasets\n",
    "recipes_df = pd.read_csv('Datasets/recipes.csv')\n",
    "reviews_df = pd.read_csv('Datasets/reviews.csv')"
   ]
  },
  {
   "cell_type": "markdown",
   "metadata": {},
   "source": [
    "### Exploratory Data Analysis (EDA)"
   ]
  },
  {
   "cell_type": "code",
   "execution_count": 138,
   "metadata": {},
   "outputs": [
    {
     "name": "stdout",
     "output_type": "stream",
     "text": [
      "Recipes Dataframe:\n",
      "<class 'pandas.core.frame.DataFrame'>\n",
      "RangeIndex: 522517 entries, 0 to 522516\n",
      "Data columns (total 28 columns):\n",
      " #   Column                      Non-Null Count   Dtype  \n",
      "---  ------                      --------------   -----  \n",
      " 0   RecipeId                    522517 non-null  int64  \n",
      " 1   Name                        522517 non-null  object \n",
      " 2   AuthorId                    522517 non-null  int64  \n",
      " 3   AuthorName                  522517 non-null  object \n",
      " 4   CookTime                    439972 non-null  object \n",
      " 5   PrepTime                    522517 non-null  object \n",
      " 6   TotalTime                   522517 non-null  object \n",
      " 7   DatePublished               522517 non-null  object \n",
      " 8   Description                 522512 non-null  object \n",
      " 9   Images                      522516 non-null  object \n",
      " 10  RecipeCategory              521766 non-null  object \n",
      " 11  Keywords                    505280 non-null  object \n",
      " 12  RecipeIngredientQuantities  522514 non-null  object \n",
      " 13  RecipeIngredientParts       522517 non-null  object \n",
      " 14  AggregatedRating            269294 non-null  float64\n",
      " 15  ReviewCount                 275028 non-null  float64\n",
      " 16  Calories                    522517 non-null  float64\n",
      " 17  FatContent                  522517 non-null  float64\n",
      " 18  SaturatedFatContent         522517 non-null  float64\n",
      " 19  CholesterolContent          522517 non-null  float64\n",
      " 20  SodiumContent               522517 non-null  float64\n",
      " 21  CarbohydrateContent         522517 non-null  float64\n",
      " 22  FiberContent                522517 non-null  float64\n",
      " 23  SugarContent                522517 non-null  float64\n",
      " 24  ProteinContent              522517 non-null  float64\n",
      " 25  RecipeServings              339606 non-null  float64\n",
      " 26  RecipeYield                 174446 non-null  object \n",
      " 27  RecipeInstructions          522517 non-null  object \n",
      "dtypes: float64(12), int64(2), object(14)\n",
      "memory usage: 111.6+ MB\n",
      "None\n",
      "\n",
      "Reviews Dataframe:\n",
      "<class 'pandas.core.frame.DataFrame'>\n",
      "RangeIndex: 1401982 entries, 0 to 1401981\n",
      "Data columns (total 8 columns):\n",
      " #   Column         Non-Null Count    Dtype \n",
      "---  ------         --------------    ----- \n",
      " 0   ReviewId       1401982 non-null  int64 \n",
      " 1   RecipeId       1401982 non-null  int64 \n",
      " 2   AuthorId       1401982 non-null  int64 \n",
      " 3   AuthorName     1401982 non-null  object\n",
      " 4   Rating         1401982 non-null  int64 \n",
      " 5   Review         1401768 non-null  object\n",
      " 6   DateSubmitted  1401982 non-null  object\n",
      " 7   DateModified   1401982 non-null  object\n",
      "dtypes: int64(4), object(4)\n",
      "memory usage: 85.6+ MB\n",
      "None\n"
     ]
    }
   ],
   "source": [
    "# Basic Information\n",
    "print(\"Recipes Dataframe:\")\n",
    "print(recipes_df.info())\n",
    "print(\"\\nReviews Dataframe:\")\n",
    "print(reviews_df.info())"
   ]
  },
  {
   "cell_type": "code",
   "execution_count": 139,
   "metadata": {},
   "outputs": [
    {
     "data": {
      "text/html": [
       "<div>\n",
       "<style scoped>\n",
       "    .dataframe tbody tr th:only-of-type {\n",
       "        vertical-align: middle;\n",
       "    }\n",
       "\n",
       "    .dataframe tbody tr th {\n",
       "        vertical-align: top;\n",
       "    }\n",
       "\n",
       "    .dataframe thead th {\n",
       "        text-align: right;\n",
       "    }\n",
       "</style>\n",
       "<table border=\"1\" class=\"dataframe\">\n",
       "  <thead>\n",
       "    <tr style=\"text-align: right;\">\n",
       "      <th></th>\n",
       "      <th>RecipeId</th>\n",
       "      <th>Name</th>\n",
       "      <th>AuthorId</th>\n",
       "      <th>AuthorName</th>\n",
       "      <th>CookTime</th>\n",
       "      <th>PrepTime</th>\n",
       "      <th>TotalTime</th>\n",
       "      <th>DatePublished</th>\n",
       "      <th>Description</th>\n",
       "      <th>Images</th>\n",
       "      <th>...</th>\n",
       "      <th>SaturatedFatContent</th>\n",
       "      <th>CholesterolContent</th>\n",
       "      <th>SodiumContent</th>\n",
       "      <th>CarbohydrateContent</th>\n",
       "      <th>FiberContent</th>\n",
       "      <th>SugarContent</th>\n",
       "      <th>ProteinContent</th>\n",
       "      <th>RecipeServings</th>\n",
       "      <th>RecipeYield</th>\n",
       "      <th>RecipeInstructions</th>\n",
       "    </tr>\n",
       "  </thead>\n",
       "  <tbody>\n",
       "    <tr>\n",
       "      <th>0</th>\n",
       "      <td>38</td>\n",
       "      <td>Low-Fat Berry Blue Frozen Dessert</td>\n",
       "      <td>1533</td>\n",
       "      <td>Dancer</td>\n",
       "      <td>PT24H</td>\n",
       "      <td>PT45M</td>\n",
       "      <td>PT24H45M</td>\n",
       "      <td>1999-08-09T21:46:00Z</td>\n",
       "      <td>Make and share this Low-Fat Berry Blue Frozen ...</td>\n",
       "      <td>c(\"https://img.sndimg.com/food/image/upload/w_...</td>\n",
       "      <td>...</td>\n",
       "      <td>1.3</td>\n",
       "      <td>8.0</td>\n",
       "      <td>29.8</td>\n",
       "      <td>37.1</td>\n",
       "      <td>3.6</td>\n",
       "      <td>30.2</td>\n",
       "      <td>3.2</td>\n",
       "      <td>4.0</td>\n",
       "      <td>NaN</td>\n",
       "      <td>c(\"Toss 2 cups berries with sugar.\", \"Let stan...</td>\n",
       "    </tr>\n",
       "    <tr>\n",
       "      <th>1</th>\n",
       "      <td>39</td>\n",
       "      <td>Biryani</td>\n",
       "      <td>1567</td>\n",
       "      <td>elly9812</td>\n",
       "      <td>PT25M</td>\n",
       "      <td>PT4H</td>\n",
       "      <td>PT4H25M</td>\n",
       "      <td>1999-08-29T13:12:00Z</td>\n",
       "      <td>Make and share this Biryani recipe from Food.com.</td>\n",
       "      <td>c(\"https://img.sndimg.com/food/image/upload/w_...</td>\n",
       "      <td>...</td>\n",
       "      <td>16.6</td>\n",
       "      <td>372.8</td>\n",
       "      <td>368.4</td>\n",
       "      <td>84.4</td>\n",
       "      <td>9.0</td>\n",
       "      <td>20.4</td>\n",
       "      <td>63.4</td>\n",
       "      <td>6.0</td>\n",
       "      <td>NaN</td>\n",
       "      <td>c(\"Soak saffron in warm milk for 5 minutes and...</td>\n",
       "    </tr>\n",
       "    <tr>\n",
       "      <th>2</th>\n",
       "      <td>40</td>\n",
       "      <td>Best Lemonade</td>\n",
       "      <td>1566</td>\n",
       "      <td>Stephen Little</td>\n",
       "      <td>PT5M</td>\n",
       "      <td>PT30M</td>\n",
       "      <td>PT35M</td>\n",
       "      <td>1999-09-05T19:52:00Z</td>\n",
       "      <td>This is from one of my  first Good House Keepi...</td>\n",
       "      <td>c(\"https://img.sndimg.com/food/image/upload/w_...</td>\n",
       "      <td>...</td>\n",
       "      <td>0.0</td>\n",
       "      <td>0.0</td>\n",
       "      <td>1.8</td>\n",
       "      <td>81.5</td>\n",
       "      <td>0.4</td>\n",
       "      <td>77.2</td>\n",
       "      <td>0.3</td>\n",
       "      <td>4.0</td>\n",
       "      <td>NaN</td>\n",
       "      <td>c(\"Into a 1 quart Jar with tight fitting lid, ...</td>\n",
       "    </tr>\n",
       "    <tr>\n",
       "      <th>3</th>\n",
       "      <td>41</td>\n",
       "      <td>Carina's Tofu-Vegetable Kebabs</td>\n",
       "      <td>1586</td>\n",
       "      <td>Cyclopz</td>\n",
       "      <td>PT20M</td>\n",
       "      <td>PT24H</td>\n",
       "      <td>PT24H20M</td>\n",
       "      <td>1999-09-03T14:54:00Z</td>\n",
       "      <td>This dish is best prepared a day in advance to...</td>\n",
       "      <td>c(\"https://img.sndimg.com/food/image/upload/w_...</td>\n",
       "      <td>...</td>\n",
       "      <td>3.8</td>\n",
       "      <td>0.0</td>\n",
       "      <td>1558.6</td>\n",
       "      <td>64.2</td>\n",
       "      <td>17.3</td>\n",
       "      <td>32.1</td>\n",
       "      <td>29.3</td>\n",
       "      <td>2.0</td>\n",
       "      <td>4 kebabs</td>\n",
       "      <td>c(\"Drain the tofu, carefully squeezing out exc...</td>\n",
       "    </tr>\n",
       "    <tr>\n",
       "      <th>4</th>\n",
       "      <td>42</td>\n",
       "      <td>Cabbage Soup</td>\n",
       "      <td>1538</td>\n",
       "      <td>Duckie067</td>\n",
       "      <td>PT30M</td>\n",
       "      <td>PT20M</td>\n",
       "      <td>PT50M</td>\n",
       "      <td>1999-09-19T06:19:00Z</td>\n",
       "      <td>Make and share this Cabbage Soup recipe from F...</td>\n",
       "      <td>\"https://img.sndimg.com/food/image/upload/w_55...</td>\n",
       "      <td>...</td>\n",
       "      <td>0.1</td>\n",
       "      <td>0.0</td>\n",
       "      <td>959.3</td>\n",
       "      <td>25.1</td>\n",
       "      <td>4.8</td>\n",
       "      <td>17.7</td>\n",
       "      <td>4.3</td>\n",
       "      <td>4.0</td>\n",
       "      <td>NaN</td>\n",
       "      <td>c(\"Mix everything together and bring to a boil...</td>\n",
       "    </tr>\n",
       "  </tbody>\n",
       "</table>\n",
       "<p>5 rows × 28 columns</p>\n",
       "</div>"
      ],
      "text/plain": [
       "   RecipeId                               Name  AuthorId      AuthorName  \\\n",
       "0        38  Low-Fat Berry Blue Frozen Dessert      1533          Dancer   \n",
       "1        39                            Biryani      1567        elly9812   \n",
       "2        40                      Best Lemonade      1566  Stephen Little   \n",
       "3        41     Carina's Tofu-Vegetable Kebabs      1586         Cyclopz   \n",
       "4        42                       Cabbage Soup      1538       Duckie067   \n",
       "\n",
       "  CookTime PrepTime TotalTime         DatePublished  \\\n",
       "0    PT24H    PT45M  PT24H45M  1999-08-09T21:46:00Z   \n",
       "1    PT25M     PT4H   PT4H25M  1999-08-29T13:12:00Z   \n",
       "2     PT5M    PT30M     PT35M  1999-09-05T19:52:00Z   \n",
       "3    PT20M    PT24H  PT24H20M  1999-09-03T14:54:00Z   \n",
       "4    PT30M    PT20M     PT50M  1999-09-19T06:19:00Z   \n",
       "\n",
       "                                         Description  \\\n",
       "0  Make and share this Low-Fat Berry Blue Frozen ...   \n",
       "1  Make and share this Biryani recipe from Food.com.   \n",
       "2  This is from one of my  first Good House Keepi...   \n",
       "3  This dish is best prepared a day in advance to...   \n",
       "4  Make and share this Cabbage Soup recipe from F...   \n",
       "\n",
       "                                              Images  ... SaturatedFatContent  \\\n",
       "0  c(\"https://img.sndimg.com/food/image/upload/w_...  ...                 1.3   \n",
       "1  c(\"https://img.sndimg.com/food/image/upload/w_...  ...                16.6   \n",
       "2  c(\"https://img.sndimg.com/food/image/upload/w_...  ...                 0.0   \n",
       "3  c(\"https://img.sndimg.com/food/image/upload/w_...  ...                 3.8   \n",
       "4  \"https://img.sndimg.com/food/image/upload/w_55...  ...                 0.1   \n",
       "\n",
       "  CholesterolContent SodiumContent CarbohydrateContent  FiberContent  \\\n",
       "0                8.0          29.8                37.1           3.6   \n",
       "1              372.8         368.4                84.4           9.0   \n",
       "2                0.0           1.8                81.5           0.4   \n",
       "3                0.0        1558.6                64.2          17.3   \n",
       "4                0.0         959.3                25.1           4.8   \n",
       "\n",
       "   SugarContent  ProteinContent  RecipeServings  RecipeYield  \\\n",
       "0          30.2             3.2             4.0          NaN   \n",
       "1          20.4            63.4             6.0          NaN   \n",
       "2          77.2             0.3             4.0          NaN   \n",
       "3          32.1            29.3             2.0     4 kebabs   \n",
       "4          17.7             4.3             4.0          NaN   \n",
       "\n",
       "                                  RecipeInstructions  \n",
       "0  c(\"Toss 2 cups berries with sugar.\", \"Let stan...  \n",
       "1  c(\"Soak saffron in warm milk for 5 minutes and...  \n",
       "2  c(\"Into a 1 quart Jar with tight fitting lid, ...  \n",
       "3  c(\"Drain the tofu, carefully squeezing out exc...  \n",
       "4  c(\"Mix everything together and bring to a boil...  \n",
       "\n",
       "[5 rows x 28 columns]"
      ]
     },
     "execution_count": 139,
     "metadata": {},
     "output_type": "execute_result"
    }
   ],
   "source": [
    "# Quick look at the data\n",
    "recipes_df.head()"
   ]
  },
  {
   "cell_type": "code",
   "execution_count": 140,
   "metadata": {},
   "outputs": [
    {
     "data": {
      "text/html": [
       "<div>\n",
       "<style scoped>\n",
       "    .dataframe tbody tr th:only-of-type {\n",
       "        vertical-align: middle;\n",
       "    }\n",
       "\n",
       "    .dataframe tbody tr th {\n",
       "        vertical-align: top;\n",
       "    }\n",
       "\n",
       "    .dataframe thead th {\n",
       "        text-align: right;\n",
       "    }\n",
       "</style>\n",
       "<table border=\"1\" class=\"dataframe\">\n",
       "  <thead>\n",
       "    <tr style=\"text-align: right;\">\n",
       "      <th></th>\n",
       "      <th>ReviewId</th>\n",
       "      <th>RecipeId</th>\n",
       "      <th>AuthorId</th>\n",
       "      <th>AuthorName</th>\n",
       "      <th>Rating</th>\n",
       "      <th>Review</th>\n",
       "      <th>DateSubmitted</th>\n",
       "      <th>DateModified</th>\n",
       "    </tr>\n",
       "  </thead>\n",
       "  <tbody>\n",
       "    <tr>\n",
       "      <th>0</th>\n",
       "      <td>2</td>\n",
       "      <td>992</td>\n",
       "      <td>2008</td>\n",
       "      <td>gayg msft</td>\n",
       "      <td>5</td>\n",
       "      <td>better than any you can get at a restaurant!</td>\n",
       "      <td>2000-01-25T21:44:00Z</td>\n",
       "      <td>2000-01-25T21:44:00Z</td>\n",
       "    </tr>\n",
       "    <tr>\n",
       "      <th>1</th>\n",
       "      <td>7</td>\n",
       "      <td>4384</td>\n",
       "      <td>1634</td>\n",
       "      <td>Bill Hilbrich</td>\n",
       "      <td>4</td>\n",
       "      <td>I cut back on the mayo, and made up the differ...</td>\n",
       "      <td>2001-10-17T16:49:59Z</td>\n",
       "      <td>2001-10-17T16:49:59Z</td>\n",
       "    </tr>\n",
       "    <tr>\n",
       "      <th>2</th>\n",
       "      <td>9</td>\n",
       "      <td>4523</td>\n",
       "      <td>2046</td>\n",
       "      <td>Gay Gilmore ckpt</td>\n",
       "      <td>2</td>\n",
       "      <td>i think i did something wrong because i could ...</td>\n",
       "      <td>2000-02-25T09:00:00Z</td>\n",
       "      <td>2000-02-25T09:00:00Z</td>\n",
       "    </tr>\n",
       "    <tr>\n",
       "      <th>3</th>\n",
       "      <td>13</td>\n",
       "      <td>7435</td>\n",
       "      <td>1773</td>\n",
       "      <td>Malarkey Test</td>\n",
       "      <td>5</td>\n",
       "      <td>easily the best i have ever had.  juicy flavor...</td>\n",
       "      <td>2000-03-13T21:15:00Z</td>\n",
       "      <td>2000-03-13T21:15:00Z</td>\n",
       "    </tr>\n",
       "    <tr>\n",
       "      <th>4</th>\n",
       "      <td>14</td>\n",
       "      <td>44</td>\n",
       "      <td>2085</td>\n",
       "      <td>Tony Small</td>\n",
       "      <td>5</td>\n",
       "      <td>An excellent dish.</td>\n",
       "      <td>2000-03-28T12:51:00Z</td>\n",
       "      <td>2000-03-28T12:51:00Z</td>\n",
       "    </tr>\n",
       "  </tbody>\n",
       "</table>\n",
       "</div>"
      ],
      "text/plain": [
       "   ReviewId  RecipeId  AuthorId        AuthorName  Rating  \\\n",
       "0         2       992      2008         gayg msft       5   \n",
       "1         7      4384      1634     Bill Hilbrich       4   \n",
       "2         9      4523      2046  Gay Gilmore ckpt       2   \n",
       "3        13      7435      1773     Malarkey Test       5   \n",
       "4        14        44      2085        Tony Small       5   \n",
       "\n",
       "                                              Review         DateSubmitted  \\\n",
       "0       better than any you can get at a restaurant!  2000-01-25T21:44:00Z   \n",
       "1  I cut back on the mayo, and made up the differ...  2001-10-17T16:49:59Z   \n",
       "2  i think i did something wrong because i could ...  2000-02-25T09:00:00Z   \n",
       "3  easily the best i have ever had.  juicy flavor...  2000-03-13T21:15:00Z   \n",
       "4                                 An excellent dish.  2000-03-28T12:51:00Z   \n",
       "\n",
       "           DateModified  \n",
       "0  2000-01-25T21:44:00Z  \n",
       "1  2001-10-17T16:49:59Z  \n",
       "2  2000-02-25T09:00:00Z  \n",
       "3  2000-03-13T21:15:00Z  \n",
       "4  2000-03-28T12:51:00Z  "
      ]
     },
     "execution_count": 140,
     "metadata": {},
     "output_type": "execute_result"
    }
   ],
   "source": [
    "# Quick look at the data\n",
    "reviews_df.head()"
   ]
  },
  {
   "cell_type": "code",
   "execution_count": 141,
   "metadata": {},
   "outputs": [
    {
     "name": "stdout",
     "output_type": "stream",
     "text": [
      "Missing values in Recipes Dataset:\n",
      "CookTime                       82545\n",
      "Description                        5\n",
      "Images                             1\n",
      "RecipeCategory                   751\n",
      "Keywords                       17237\n",
      "RecipeIngredientQuantities         3\n",
      "AggregatedRating              253223\n",
      "ReviewCount                   247489\n",
      "RecipeServings                182911\n",
      "RecipeYield                   348071\n",
      "dtype: int64\n",
      "\n",
      "Missing values in Reviews Dataset:\n",
      "Review    214\n",
      "dtype: int64\n"
     ]
    }
   ],
   "source": [
    "print(\"Missing values in Recipes Dataset:\")\n",
    "missing_values_recipes = recipes_df.isnull().sum()\n",
    "print(missing_values_recipes[missing_values_recipes > 0])\n",
    "\n",
    "print(\"\\nMissing values in Reviews Dataset:\")\n",
    "missing_values_reviews = reviews_df.isnull().sum()\n",
    "print(missing_values_reviews[missing_values_reviews > 0])"
   ]
  },
  {
   "cell_type": "markdown",
   "metadata": {},
   "source": [
    "### Data Cleaning"
   ]
  },
  {
   "cell_type": "code",
   "execution_count": 142,
   "metadata": {},
   "outputs": [],
   "source": [
    "# Parsing Time Duration Strings\n",
    "def parse_duration(duration_str):\n",
    "    \n",
    "    if pd.isnull(duration_str):\n",
    "        return None  \n",
    "    hours = minutes = 0\n",
    "    hours_match = re.search(r'(\\d+)H', duration_str)\n",
    "    minutes_match = re.search(r'(\\d+)M', duration_str)\n",
    "    if hours_match:\n",
    "        hours = int(hours_match.group(1))\n",
    "    if minutes_match:\n",
    "        minutes = int(minutes_match.group(1))\n",
    "\n",
    "    return hours * 60 + minutes"
   ]
  },
  {
   "cell_type": "code",
   "execution_count": 143,
   "metadata": {},
   "outputs": [],
   "source": [
    "def parsing_values(values_str):\n",
    "    \n",
    "    if pd.notna(values_str):\n",
    "        values_str = values_str.replace('c(', '(')\n",
    "        # Remove non-alphanumeric characters except commas, spaces, and '&'\n",
    "        values_str = re.sub(r'[^\\w\\s,&]', '', values_str)\n",
    "        # Remove brackets and quotes\n",
    "        values_str = re.sub(r'[\\[\\]\\'\\\"]', '', values_str)\n",
    "\n",
    "    return values_str"
   ]
  },
  {
   "cell_type": "code",
   "execution_count": 144,
   "metadata": {},
   "outputs": [],
   "source": [
    "def parsing_imageURL(values_imageURL):\n",
    "    \n",
    "    if pd.notna(values_imageURL) and values_imageURL.strip() != 'character(0)':\n",
    "        urls = re.findall(r'https?://[^\\s\"]+', values_imageURL)\n",
    "        image_urls_mod = [url.rstrip('\",') for url in urls]\n",
    "        return image_urls_mod[0]\n",
    "    else:\n",
    "        return pd.NA"
   ]
  },
  {
   "cell_type": "code",
   "execution_count": 145,
   "metadata": {},
   "outputs": [],
   "source": [
    "recipes_df['CookTimeMin'] = recipes_df['CookTime'].apply(parse_duration)\n",
    "recipes_df['PrepTimeMin'] = recipes_df['PrepTime'].apply(parse_duration)\n",
    "recipes_df['TotalTimeMin'] = recipes_df['TotalTime'].apply(parse_duration)\n",
    "recipes_df['Images'] = recipes_df['Images'].apply(parsing_imageURL)\n",
    "recipes_df['Keywords'] = recipes_df['Keywords'].apply(parsing_values)\n",
    "recipes_df['RecipeInstructions'] = recipes_df['RecipeInstructions'].apply(parsing_values)\n",
    "\n",
    "recipes_df.drop(['CookTime', 'PrepTime', 'TotalTime'], axis=1, inplace=True)"
   ]
  },
  {
   "cell_type": "code",
   "execution_count": 146,
   "metadata": {},
   "outputs": [],
   "source": [
    "# Recipes Dataset Handling\n",
    "\n",
    "# Impute 'CookTime' with median (or mean, based on your preference)\n",
    "cook_time_median = recipes_df['CookTimeMin'].median()\n",
    "recipes_df['CookTimeMin'].fillna(cook_time_median, inplace=True)\n",
    "\n",
    "# Drop NA for 'Description' and 'Keywords' columns\n",
    "recipes_df.dropna(subset=['Description', 'Keywords'], inplace=True)\n",
    "\n",
    "# Assign 'Other' to missing 'RecipeCategory'\n",
    "recipes_df['RecipeCategory'].fillna('Other', inplace=True)\n",
    "\n",
    "# Drop NA for 'Images' and 'RecipeIngredientQuantities' columns\n",
    "recipes_df.dropna(subset=['Images', 'RecipeIngredientQuantities'], inplace=True)\n",
    "\n",
    "recipes_df['AggregatedRating'].fillna(recipes_df['AggregatedRating'].median(), inplace=True)\n",
    "recipes_df['ReviewCount'].fillna(0, inplace=True)\n",
    "\n",
    "# 'RecipeServings' and 'RecipeYield' set to median and placeholder value\n",
    "recipes_df['RecipeServings'].fillna(recipes_df['RecipeServings'].median(), inplace=True)\n",
    "recipes_df['RecipeYield'].fillna('Varies', inplace=True)\n",
    "\n",
    "# Reviews Dataset Handling\n",
    "\n",
    "# Drop NA reviews\n",
    "reviews_df.dropna(subset=['Review'], inplace=True)\n",
    "\n",
    "# Removing Duplicates\n",
    "recipes_df.drop_duplicates(subset=['RecipeId'], keep='first', inplace=True)\n",
    "reviews_df.drop_duplicates(subset=['ReviewId'], keep='first', inplace=True)\n"
   ]
  },
  {
   "cell_type": "code",
   "execution_count": 147,
   "metadata": {},
   "outputs": [
    {
     "name": "stdout",
     "output_type": "stream",
     "text": [
      "Updated missing values for Recipes Dataset:\n",
      "No missing values found! ^_^\n",
      "\n",
      "Updated missing values for Reviews Dataset:\n",
      "No missing values found! ^_^\n"
     ]
    }
   ],
   "source": [
    "# Check for missing values after data cleaning\n",
    "print(\"Updated missing values for Recipes Dataset:\")\n",
    "updated_missing_values_recipes = recipes_df.dropna().isnull().sum()\n",
    "if updated_missing_values_recipes.any():\n",
    "    print(updated_missing_values_recipes[updated_missing_values_recipes > 0])\n",
    "else:\n",
    "    print(\"No missing values found! ^_^\")\n",
    "\n",
    "print(\"\\nUpdated missing values for Reviews Dataset:\")\n",
    "updated_missing_values_reviews = reviews_df.dropna().isnull().sum()\n",
    "if updated_missing_values_reviews.any():\n",
    "    print(updated_missing_values_reviews[updated_missing_values_reviews > 0])\n",
    "else:\n",
    "    print(\"No missing values found! ^_^\")"
   ]
  },
  {
   "cell_type": "code",
   "execution_count": 148,
   "metadata": {},
   "outputs": [
    {
     "data": {
      "image/png": "[encoded data removed]",
      "text/plain": [
       "<Figure size 1000x600 with 1 Axes>"
      ]
     },
     "metadata": {},
     "output_type": "display_data"
    },
    {
     "data": {
      "image/png": "[encoded data removed]",
      "text/plain": [
       "<Figure size 800x800 with 1 Axes>"
      ]
     },
     "metadata": {},
     "output_type": "display_data"
    }
   ],
   "source": [
    "# Set the color palette\n",
    "palette_color = sns.color_palette('bright')\n",
    "sns.set_palette(palette_color)\n",
    "\n",
    "# Nutritional content (Calories) visualization\n",
    "plt.figure(figsize=(10, 6))\n",
    "sns.histplot(recipes_df['Calories'][recipes_df['Calories'] < 2000], bins=40, kde=True, color='salmon')\n",
    "plt.title('Distribution of Calories')\n",
    "plt.xlabel('Calories')\n",
    "plt.ylabel('Frequency')\n",
    "plt.show()\n",
    "\n",
    "# Count the occurrences of each rating\n",
    "ratings_count = reviews_df['Rating'].value_counts()\n",
    "\n",
    "# Generate a colorful pie chart for the ratings distribution\n",
    "plt.figure(figsize=(8, 8))\n",
    "plt.pie(ratings_count, labels=ratings_count.index, autopct='%1.1f%%', startangle=140, colors=palette_color)\n",
    "plt.title('Distribution of Ratings')\n",
    "plt.show()"
   ]
  },
  {
   "cell_type": "markdown",
   "metadata": {},
   "source": [
    "### Feature Engineering"
   ]
  },
  {
   "cell_type": "code",
   "execution_count": 149,
   "metadata": {},
   "outputs": [],
   "source": [
    "# Difficulty level based on TotalTime\n",
    "recipes_df['DifficultyLevel'] = pd.cut(recipes_df['TotalTimeMin'], \n",
    "                                       bins=[0, 60, 120, 180, float('inf')], \n",
    "                                       labels=['Easy', 'Medium', 'Hard', 'Very Hard'])\n",
    "\n",
    "# Healthiness score based on nutritional content\n",
    "recipes_df['HealthScore'] = (recipes_df['ProteinContent'] - recipes_df['FatContent']) / recipes_df['Calories']"
   ]
  },
  {
   "cell_type": "code",
   "execution_count": 150,
   "metadata": {},
   "outputs": [],
   "source": [
    "# Step 1: Handling Negative Values, infs and NaNs\n",
    "recipes_df['HealthScore'] = recipes_df['HealthScore'].replace([np.inf, -np.inf], np.nan)  # Replace infinite values with NaN\n",
    "recipes_df['HealthScore'] = recipes_df['HealthScore'].fillna(0)  # Replace NaNs with 0\n",
    "recipes_df['HealthScore'] = recipes_df['HealthScore'].apply(lambda x: max(0, x)) \n",
    "\n",
    "# Step 2: Scaling the Values (Min-Max Normalization)\n",
    "min_score = recipes_df['HealthScore'].min()\n",
    "max_score = recipes_df['HealthScore'].max()\n",
    "recipes_df['ScaledHealthScore'] = (recipes_df['HealthScore'] - min_score) / (max_score - min_score)\n",
    "\n",
    "# Step 3: Binning the Values\n",
    "bins = [0, 0.5, 1]  # Define bin edges\n",
    "labels = ['Unhealthy', 'Healthy']  # Define labels for bins\n",
    "recipes_df['HealthCategory'] = pd.cut(recipes_df['ScaledHealthScore'], bins=bins, labels=labels, right=True, include_lowest=True)\n",
    "\n",
    "# Keep only the HealthCategory column and remove others\n",
    "recipes_df.drop(columns=['HealthScore', 'ScaledHealthScore'], inplace=True)"
   ]
  },
  {
   "cell_type": "code",
   "execution_count": 162,
   "metadata": {},
   "outputs": [
    {
     "name": "stdout",
     "output_type": "stream",
     "text": [
      "Name: Low-Fat Berry Blue Frozen Dessert\n",
      "Description: Make and share this Low-Fat Berry Blue Frozen Dessert recipe from Food.com.\n",
      "Keywords: Dessert, Low Protein, Low Cholesterol, Healthy, Free Of, Summer, Weeknight, Freezer, Easy\n",
      "RecipeInstructions: Toss 2 cups berries with sugar, Let stand for 45 minutes, stirring occasionally, Transfer berrysugar mixture to food processor, Add yogurt and process until smooth, Strain through fine sieve Pour into baking pan or transfer to ice cream maker and process according to manufacturers directions Freeze uncovered until edges are solid but centre is soft  Transfer to processor and blend until smooth again, Return to pan and freeze until edges are solid, Transfer to processor and blend until smooth again, \n",
      "Fold in remaining 2 cups of blueberries, Pour into plastic mold and freeze overnight Let soften slightly to serve\n",
      "DifficultyLevel: Very Hard\n",
      "HealthCategory: Unhealthy\n",
      "Images: https://img.sndimg.com/food/image/upload/w_555,h_416,c_fit,fl_progressive,q_95/v1/img/recipes/38/YUeirxMLQaeE1h3v3qnM_229%20berry%20blue%20frzn%20dess.jpg\n",
      "AggregatedRating: 4.5\n"
     ]
    }
   ],
   "source": [
    "# Values format of relevant columns\n",
    "print(\"Name:\",recipes_df['Name'][0])\n",
    "print(\"Description:\",recipes_df['Description'][0])\n",
    "print(\"Keywords:\",recipes_df['Keywords'][0])\n",
    "print(\"RecipeInstructions:\",recipes_df['RecipeInstructions'][0])\n",
    "print(\"DifficultyLevel:\",recipes_df['DifficultyLevel'][0])\n",
    "print(\"HealthCategory:\",recipes_df['HealthCategory'][0])\n",
    "print(\"Images:\",recipes_df['Images'][0])\n",
    "print(\"AggregatedRating:\",recipes_df['AggregatedRating'][0])"
   ]
  },
  {
   "cell_type": "markdown",
   "metadata": {},
   "source": [
    "### Text Preprocessing"
   ]
  },
  {
   "cell_type": "code",
   "execution_count": 163,
   "metadata": {},
   "outputs": [],
   "source": [
    "# Select relevant columns\n",
    "relevant_columns = ['Name', 'Description', 'Keywords',\n",
    "                    'RecipeInstructions', 'DifficultyLevel', 'HealthCategory', 'Images', 'AggregatedRating']\n",
    "recipes_df = recipes_df[relevant_columns]\n",
    "\n",
    "# Define the special tokens\n",
    "start_token = \"<|startofrecipe|>\"\n",
    "end_token = \"<|endofrecipe|>\"\n",
    "\n",
    "# Function to process each recipe and format the text data\n",
    "def process_recipe(row):\n",
    "    return (\n",
    "        f\"{start_token}\\n\"\n",
    "        f\"Name: {row['Name']}\\n\"\n",
    "        f\"Description: {row['Description']}\\n\"\n",
    "        f\"Keywords: {row['Keywords']}\\n\"\n",
    "        f\"RecipeInstructions: {row['RecipeInstructions']}\\n\"\n",
    "        f\"DifficultyLevel: {row['DifficultyLevel']}\\n\"\n",
    "        f\"HealthCategory: {row['HealthCategory']}\\n\"\n",
    "        f\"Images: {row['Images']}\\n\"\n",
    "        f\"Rating: {row['AggregatedRating']}\\n\"\n",
    "        f\"{end_token}\\n\"\n",
    "    )\n",
    "\n",
    "# Apply the function to create the text_data column\n",
    "# Main text data to be fed into transformer model\n",
    "recipes_df['text_data'] = recipes_df.apply(process_recipe, axis=1)"
   ]
  },
  {
   "cell_type": "code",
   "execution_count": 180,
   "metadata": {},
   "outputs": [],
   "source": [
    "# # Sample a portion of data\n",
    "sampled_df = recipes_df.sample(frac=0.5, random_state=42)"
   ]
  },
  {
   "cell_type": "code",
   "execution_count": 181,
   "metadata": {},
   "outputs": [],
   "source": [
    "sampled_df.to_csv('Datasets/processedRecipes.csv', index=False)"
   ]
  },
  {
   "cell_type": "code",
   "execution_count": 182,
   "metadata": {},
   "outputs": [],
   "source": [
    "processed_text_data = sampled_df['text_data'].tolist()"
   ]
  },
  {
   "cell_type": "code",
   "execution_count": 184,
   "metadata": {},
   "outputs": [],
   "source": [
    "processed_text_data_main = recipes_df['text_data'].tolist()\n",
    "with open('Datasets/processed_recipes_main.txt', 'w', encoding='utf-8') as file:\n",
    "    for text in processed_text_data_main:\n",
    "        file.write(text + '\\n')"
   ]
  },
  {
   "cell_type": "markdown",
   "metadata": {},
   "source": [
    "# References\n",
    "\n",
    "1. https://pandas.pydata.org/docs/\n",
    "1. https://numpy.org/doc/\n",
    "1. https://matplotlib.org/stable/index.html\n",
    "1. https://seaborn.pydata.org/\n",
    "1. https://www.analyticsvidhya.com/blog/2021/06/must-known-techniques-for-text-preprocessing-in-nlp/"
   ]
  }
 ],
 "metadata": {
  "kernelspec": {
   "display_name": "Python 3",
   "language": "python",
   "name": "python3"
  },
  "language_info": {
   "codemirror_mode": {
    "name": "ipython",
    "version": 3
   },
   "file_extension": ".py",
   "mimetype": "text/x-python",
   "name": "python",
   "nbconvert_exporter": "python",
   "pygments_lexer": "ipython3",
   "version": "3.9.18"
  }
 },
 "nbformat": 4,
 "nbformat_minor": 2
}
