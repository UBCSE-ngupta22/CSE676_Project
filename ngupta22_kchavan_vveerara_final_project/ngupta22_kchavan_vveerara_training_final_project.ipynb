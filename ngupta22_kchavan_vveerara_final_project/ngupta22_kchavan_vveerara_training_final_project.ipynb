{
 "cells": [
  {
   "cell_type": "code",
   "execution_count": 2,
   "id": "f4c0895a",
   "metadata": {},
   "outputs": [],
   "source": [
    "import pandas as pd\n",
    "import numpy as np\n",
    "import matplotlib.pyplot as plt\n",
    "import seaborn as sns\n",
    "import re\n",
    "import math\n",
    "import random\n",
    "import torch\n",
    "import torch.nn.functional as F\n",
    "from torch.utils.data import Dataset, DataLoader\n",
    "from torch.nn.utils import clip_grad_norm_\n",
    "from transformers import GPT2LMHeadModel, GPT2Tokenizer\n",
    "from nltk.translate.bleu_score import sentence_bleu\n",
    "from nltk.translate.bleu_score import SmoothingFunction\n",
    "from rouge import Rouge"
   ]
  },
  {
   "cell_type": "code",
   "execution_count": 2,
   "id": "c21c9d1d",
   "metadata": {
    "scrolled": true
   },
   "outputs": [
    {
     "name": "stdout",
     "output_type": "stream",
     "text": [
      "Recipes formatted and saved to formatted_recipes_main.txt\n"
     ]
    }
   ],
   "source": [
    "# Define a function to format each recipe entry\n",
    "def format_recipe(recipe_info):\n",
    "    # Format each component of the recipe entry\n",
    "    recipe_entry = \"\"\n",
    "    for key, value in recipe_info.items():\n",
    "        if isinstance(value, list):\n",
    "            value = \", \".join(value)\n",
    "        recipe_entry += f\"{key}: {value}\\n\"\n",
    "    recipe_entry += \"\\n\"  # Add a newline after each recipe entry\n",
    "    return recipe_entry\n",
    "\n",
    "# Define a function to read recipes from a file and format them\n",
    "def process_recipes_file(file_path):\n",
    "    formatted_recipes = []  # List to store formatted recipe entries\n",
    "    with open(file_path, \"r\") as file:\n",
    "        lines = file.readlines()\n",
    "        recipe_info = {}  # Dictionary to store information for each recipe\n",
    "        for line in lines:\n",
    "            line = line.strip()  # Remove leading/trailing whitespace\n",
    "            if line:  # Skip empty lines\n",
    "                key_value = line.split(\": \", 1)  # Split each line into key-value pair\n",
    "                if len(key_value) == 2:\n",
    "                    key, value = key_value\n",
    "                    if key == \"Name\":\n",
    "                        if recipe_info:  # If recipe_info is not empty, format the previous recipe entry\n",
    "                            formatted_recipe = format_recipe(recipe_info)\n",
    "                            formatted_recipes.append(formatted_recipe)\n",
    "                        recipe_info = {}  # Reset recipe_info for the next recipe\n",
    "                    if key == \"Keywords\":\n",
    "                        recipe_info[key] = value.split(\", \")  # Convert keywords to list\n",
    "                    else:\n",
    "                        recipe_info[key] = value\n",
    "        # Format the last recipe entry\n",
    "        formatted_recipe = format_recipe(recipe_info)\n",
    "        formatted_recipes.append(formatted_recipe)\n",
    "    return formatted_recipes\n",
    "\n",
    "# Define file paths\n",
    "input_file_path = \"processed_recipes_main.txt\"\n",
    "output_file_path = \"formatted_recipes_main.txt\"\n",
    "\n",
    "# Process recipes file and format recipes\n",
    "formatted_recipes = process_recipes_file(input_file_path)\n",
    "\n",
    "# Write formatted recipes to output file\n",
    "with open(output_file_path, \"w\") as file:\n",
    "    file.writelines(formatted_recipes)\n",
    "\n",
    "print(\"Recipes formatted and saved to\", output_file_path)\n"
   ]
  },
  {
   "cell_type": "code",
   "execution_count": 3,
   "id": "c795fa6a",
   "metadata": {},
   "outputs": [
    {
     "name": "stdout",
     "output_type": "stream",
     "text": [
      "Epoch: 20/200, Loss: 1.76927, Perplexity: 5.86656\n",
      "Epoch: 40/200, Loss: 0.75925, Perplexity: 2.13667\n",
      "Epoch: 60/200, Loss: 0.25038, Perplexity: 1.28451\n",
      "Epoch: 80/200, Loss: 0.08832, Perplexity: 1.09234\n",
      "Epoch: 100/200, Loss: 0.02887, Perplexity: 1.02929\n",
      "Epoch: 120/200, Loss: 0.01536, Perplexity: 1.01548\n",
      "Epoch: 140/200, Loss: 0.01240, Perplexity: 1.01248\n",
      "Epoch: 160/200, Loss: 0.02725, Perplexity: 1.02763\n",
      "Epoch: 180/200, Loss: 0.00323, Perplexity: 1.00323\n",
      "Epoch: 200/200, Loss: 0.01665, Perplexity: 1.01679\n",
      "Training complete! Model saved as 'trained_recipe_GPT2_model'\n"
     ]
    }
   ],
   "source": [
    "# Function to calculate perplexity\n",
    "def calculate_perplexity(loss):\n",
    "    return math.exp(loss)\n",
    "\n",
    "# Define file path\n",
    "file_path = \"formatted_recipes_main.txt\"\n",
    "\n",
    "# Load the text file\n",
    "text = open(file_path, \"r\").read()\n",
    "\n",
    "# Tokenizer for GPT-2\n",
    "tokenizer = GPT2Tokenizer.from_pretrained(\"gpt2\")\n",
    "tokenizer.pad_token = tokenizer.eos_token\n",
    "\n",
    "# Encode the text\n",
    "encoded_text = tokenizer.encode(text, max_length=512, truncation=True, padding=\"max_length\")\n",
    "encoded_tensor = torch.tensor(encoded_text).unsqueeze(0)\n",
    "\n",
    "# Prepare training dataset\n",
    "dataset = torch.utils.data.TensorDataset(encoded_tensor)\n",
    "dataloader = torch.utils.data.DataLoader(dataset, batch_size=8)\n",
    "\n",
    "# Create GPT-2 model\n",
    "model = GPT2LMHeadModel.from_pretrained(\"gpt2\")\n",
    "\n",
    "device = torch.device(\"cuda\" if torch.cuda.is_available() else \"cpu\")\n",
    "model.to(device)\n",
    "\n",
    "# Optimizer and learning rate scheduler\n",
    "optimizer = torch.optim.AdamW(model.parameters(), lr=2e-5)\n",
    "scheduler = torch.optim.lr_scheduler.StepLR(optimizer, step_size=500, gamma=0.1)\n",
    "\n",
    "epochs = 200\n",
    "training_loss_plt_arr = []\n",
    "perplexity_plt_arr = []\n",
    "\n",
    "for epoch in range(epochs):\n",
    "    epoch_loss = 0.0  # Track total loss for the epoch\n",
    "    model.train()\n",
    "    for batch in dataloader:\n",
    "        batch_input = batch[0].to(model.device)\n",
    "\n",
    "        optimizer.zero_grad()\n",
    "\n",
    "        outputs = model(input_ids=batch_input, labels=batch_input)\n",
    "        loss = outputs.loss\n",
    "\n",
    "        loss.backward()\n",
    "        clip_grad_norm_(model.parameters(), 1.0)  # Gradient clipping\n",
    "        optimizer.step()\n",
    "\n",
    "        epoch_loss += loss.item()\n",
    "\n",
    "    # Average epoch loss\n",
    "    epoch_loss /= len(dataloader)\n",
    "    training_loss_plt_arr.append(epoch_loss)\n",
    "    \n",
    "    # Calculate perplexity and store\n",
    "    perplexity = calculate_perplexity(epoch_loss)\n",
    "    perplexity_plt_arr.append(perplexity)\n",
    "\n",
    "    # Print training loss\n",
    "    if (epoch + 1) % 20 == 0:\n",
    "        print(f\"Epoch: {epoch + 1}/{epochs}, Loss: {epoch_loss:.5f}, Perplexity: {perplexity:.5f}\")\n",
    "\n",
    "    # Adjust learning rate\n",
    "    scheduler.step()\n",
    "\n",
    "# Save the trained model\n",
    "model.save_pretrained(\"trained_recipe_GPT2_model\")\n",
    "\n",
    "print(\"Training complete! Model saved as 'trained_recipe_GPT2_model'\")\n"
   ]
  },
  {
   "cell_type": "markdown",
   "id": "ff8ed3bb",
   "metadata": {},
   "source": [
    "## Visualization"
   ]
  },
  {
   "cell_type": "code",
   "execution_count": 11,
   "id": "656d4423",
   "metadata": {},
   "outputs": [
    {
     "data": {
      "image/png": "[encoded data removed]",
      "text/plain": [
       "<Figure size 432x288 with 1 Axes>"
      ]
     },
     "metadata": {
      "needs_background": "light"
     },
     "output_type": "display_data"
    }
   ],
   "source": [
    "# Plot the Training Loss graph\n",
    "epochs = range(1, len(training_loss_plt_arr) + 1)\n",
    "plt.plot(epochs, training_loss_plt_arr,\n",
    "         label='Training Loss', color='blue')\n",
    "plt.xlabel('Epochs')\n",
    "plt.ylabel('Loss')\n",
    "plt.title('Training Loss over Epochs')\n",
    "plt.legend()\n",
    "plt.show()"
   ]
  },
  {
   "cell_type": "code",
   "execution_count": 10,
   "id": "1337e3e6",
   "metadata": {},
   "outputs": [
    {
     "data": {
      "image/png": "[encoded data removed]",
      "text/plain": [
       "<Figure size 432x288 with 1 Axes>"
      ]
     },
     "metadata": {
      "needs_background": "light"
     },
     "output_type": "display_data"
    }
   ],
   "source": [
    "# Plotting perplexity\n",
    "epochs = range(1, len(training_loss_plt_arr) + 1)\n",
    "plt.plot(epochs, perplexity_plt_arr, 'r', label='Perplexity')\n",
    "plt.title('Perplexity')\n",
    "plt.xlabel('Epochs')\n",
    "plt.ylabel('Perplexity')\n",
    "plt.legend()\n",
    "plt.show()\n"
   ]
  },
  {
   "cell_type": "markdown",
   "id": "42e2ca5d",
   "metadata": {},
   "source": [
    "## Model Result"
   ]
  },
  {
   "cell_type": "code",
   "execution_count": 3,
   "id": "aef61df7",
   "metadata": {},
   "outputs": [
    {
     "name": "stdout",
     "output_type": "stream",
     "text": [
      "Recipe suggestion:\n",
      "I'm craving Chicken Biryani.\n",
      "\n",
      "I've been craving this recipe for a long time, and I've always had a craving for Chicken Thigh & Leg. So when I saw this post, I thought, \"Wow, this is really good. I'd love to try it out. Let's see how this turns out.\" So I made this Chicken Leg Thighed Chicken recipe from scratch. It's so simple, you can use any kind of chicken or veggie you like, but make sure to use beef, chicken, or vegetable broth. Plus, it's full of flavor and health benefits. Easy to Make\n",
      "Difficulty Level: Very Hard\n",
      "Health Benefits: Low\n",
      "Rating: 4.5\n",
      "Images: https://img.sndimg-img, https/c/upload/w_555,h_416,c_fit,fl_progressive,q_95/v1/img/recipes/38/YUeirxMLQaeE1h3v3qnM_229%20Chicken%205Thigh%206Leg%204%202%22dess.jpg\n",
      "RecipeInstructions: Toss 2 cups chicken with sugar, Let stand for 45 minutes, stirring occasionally, Transfer biryan mixture to food processor, Add yogurt and process until smooth, Strain through fine sieve Pour into baking pan or transfer to ice cream maker and blend until well smooth again, Return to pan and freeze until edges are solid, Marinate chicken in yogurt mixture with salt, covered for at least 2  6 hours in refrigerator, In skillet heat oil over medium heat for 1 minute Add ghee and 15 seconds later add onion and fry for about8 minutes. In large bowl, add yogurt, cinnamon, coriander and lemon juice and mix well, Pour paste into large baking dish, cover with plastic wrap and refrigerate for up to 2 hours,\n",
      "Preparation: In processor add chiles, onions, ginger, garlic, cloves, peppercorns, cardamom seeds, nutmeg, mace, cilantro or mint leaves and 5 cups milk For taste add salt and pepper and taste for salt Mix well and serve warm to mouth, top with poppy seeds and garnish with mozzarella or cheddar cheese and serving warm over rice or noodles or in skillet Heat oil in large skillet over high heat For 1 hour add gherkin and sauté for 2 minutes Add onion, fry until soft but centre is soft  Transfer to processor and add garlic and cook for another minute, 4 minutes until golden brown, 6 minutes more, Stir in garlic mixture and puree in blender, 15 minutes later blend into smooth paste Put paste in food mixture into bowl and share with friends or family, in restaurants or at home Make into sandwiches: 1 large loaf Cuisine: Indian Servings: 12 people Author: Sajjad Saha Ingredients 2 Tbsp milk\n",
      "1 onion\n",
      "8\n"
     ]
    }
   ],
   "source": [
    "# Load the trained model\n",
    "model_path = \"trained_recipe_GPT2_model\"\n",
    "tokenizer = GPT2Tokenizer.from_pretrained(\"gpt2\")\n",
    "model = GPT2LMHeadModel.from_pretrained(model_path)\n",
    "device = torch.device(\"cuda\" if torch.cuda.is_available() else \"cpu\")\n",
    "model.to(device)\n",
    "\n",
    "# Define input prompt\n",
    "input_prompt = \"I'm craving Chicken Biryani.\"\n",
    "\n",
    "# Tokenize input prompt\n",
    "input_ids = tokenizer.encode(input_prompt, return_tensors=\"pt\").to(device)\n",
    "\n",
    "# Generate recipe suggestion and get attention weights\n",
    "output = model.generate(\n",
    "    input_ids,\n",
    "    max_length=600,  # Increased max_length\n",
    "    num_return_sequences=1,\n",
    "    no_repeat_ngram_size=2,\n",
    "    top_p=0.85,  # Adjusted top_p\n",
    "    temperature=0.8,  # Adjusted temperature\n",
    "    do_sample=True,\n",
    "    top_k=60,  # Adjusted top_k\n",
    "    early_stopping=False,\n",
    "    pad_token_id=tokenizer.eos_token_id,\n",
    "    output_attentions=True,\n",
    ")\n",
    "\n",
    "# Decode the generated recipe\n",
    "recipe = output[0]\n",
    "generated_text = tokenizer.decode(recipe, skip_special_tokens=True)\n",
    "\n",
    "# Print the generated recipe\n",
    "print(\"Recipe suggestion:\")\n",
    "print(generated_text)"
   ]
  },
  {
   "cell_type": "markdown",
   "id": "1e0f246e",
   "metadata": {},
   "source": [
    "## Evaluation Metrics"
   ]
  },
  {
   "cell_type": "code",
   "execution_count": 4,
   "id": "8805e48e",
   "metadata": {},
   "outputs": [],
   "source": [
    "# reference recipes\n",
    "references = [\n",
    "    \"Soak saffron in warm milk before blending it with chiles, onions, ginger, and various spices to form a paste. Marinate chicken thighs and legs in this mixture with yogurt, then fry with onions, tomatoes, and cook with rice, nuts, and raisins. Garnish with fried onions.\",\n",
    "    \"Begin by soaking saffron in milk and creating a spice paste with ingredients like ginger, garlic, and cardamom. Use this paste to marinate the chicken, which is then fried with tomatoes and combined with rice, cashews, and almonds. Finish the dish with saffron-colored rice and a garnish of onions and eggs.\",\n",
    "    \"Prepare a marinade of yogurt and a blend of spices including saffron, cardamom, and cloves for the chicken. After marinating for a few hours, cook the chicken with tomatoes and add rice. Garnish the biryani with fried onions, nuts, and hard-boiled eggs for a rich presentation.\"\n",
    "]"
   ]
  },
  {
   "cell_type": "code",
   "execution_count": 5,
   "id": "505253d1",
   "metadata": {},
   "outputs": [
    {
     "name": "stdout",
     "output_type": "stream",
     "text": [
      "Perplexity: 1.0167893837553101\n"
     ]
    }
   ],
   "source": [
    "# Perplexity Calculation\n",
    "def calculate_perplexity(loss):\n",
    "    return math.exp(loss)\n",
    "\n",
    "# Calculate perplexity from training loss\n",
    "training_loss = 0.01665\n",
    "perplexity = calculate_perplexity(training_loss)\n",
    "print(f\"Perplexity: {perplexity}\")"
   ]
  },
  {
   "cell_type": "code",
   "execution_count": 7,
   "id": "56855bca",
   "metadata": {},
   "outputs": [
    {
     "name": "stdout",
     "output_type": "stream",
     "text": [
      "BLEU Score: 0.054323228744177283\n"
     ]
    }
   ],
   "source": [
    "# BLEU score\n",
    "tokenized_references = [ref.split() for ref in references]\n",
    "tokenized_generated = generated_text.split()\n",
    "\n",
    "# Compute BLEU score considering up to bi-grams\n",
    "bleu_score = sentence_bleu(tokenized_references, tokenized_generated, weights=(0.5, 0.5))\n",
    "print(\"BLEU Score:\", bleu_score)"
   ]
  },
  {
   "cell_type": "code",
   "execution_count": 16,
   "id": "f6f1cf9e",
   "metadata": {},
   "outputs": [
    {
     "name": "stdout",
     "output_type": "stream",
     "text": [
      "ROUGE Scores: {'r': 0.35, 'p': 0.1044776119402985, 'f': 0.16091953668912679}\n"
     ]
    }
   ],
   "source": [
    "combined_references = ' '.join(references)\n",
    "\n",
    "# Compute ROUGE score\n",
    "rouge = Rouge()\n",
    "scores = rouge.get_scores(generated_text, combined_references, avg=True)\n",
    "print(\"ROUGE Scores:\", scores['rouge-1'])"
   ]
  }
 ],
 "metadata": {
  "kernelspec": {
   "display_name": "Python 3 (ipykernel)",
   "language": "python",
   "name": "python3"
  },
  "language_info": {
   "codemirror_mode": {
    "name": "ipython",
    "version": 3
   },
   "file_extension": ".py",
   "mimetype": "text/x-python",
   "name": "python",
   "nbconvert_exporter": "python",
   "pygments_lexer": "ipython3",
   "version": "3.9.18"
  }
 },
 "nbformat": 4,
 "nbformat_minor": 5
}
