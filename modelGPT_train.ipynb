{
 "cells": [
  {
   "cell_type": "code",
   "execution_count": 2,
   "id": "f4c0895a",
   "metadata": {},
   "outputs": [],
   "source": [
    "import pandas as pd\n",
    "import numpy as np\n",
    "import matplotlib.pyplot as plt\n",
    "import seaborn as sns\n",
    "import re\n",
    "import random\n",
    "import torch\n",
    "import torch.nn.functional as F\n",
    "import torch.utils.data\n",
    "from transformers import GPT2LMHeadModel, GPT2Tokenizer"
   ]
  },
  {
   "cell_type": "code",
   "execution_count": 28,
   "id": "c795fa6a",
   "metadata": {},
   "outputs": [
    {
     "name": "stdout",
     "output_type": "stream",
     "text": [
      "Epoch: 25/500, Loss: 1.87570\n",
      "Epoch: 50/500, Loss: 0.87884\n",
      "Epoch: 75/500, Loss: 0.33458\n",
      "Epoch: 100/500, Loss: 0.13886\n",
      "Epoch: 125/500, Loss: 0.08548\n",
      "Epoch: 150/500, Loss: 0.04732\n",
      "Epoch: 175/500, Loss: 0.03352\n",
      "Epoch: 200/500, Loss: 0.03539\n",
      "Epoch: 225/500, Loss: 0.01648\n",
      "Epoch: 250/500, Loss: 0.01822\n",
      "Epoch: 275/500, Loss: 0.02887\n",
      "Epoch: 300/500, Loss: 0.01689\n",
      "Epoch: 325/500, Loss: 0.00947\n",
      "Epoch: 350/500, Loss: 0.01619\n",
      "Epoch: 375/500, Loss: 0.01197\n",
      "Epoch: 400/500, Loss: 0.01488\n",
      "Epoch: 425/500, Loss: 0.00571\n",
      "Epoch: 450/500, Loss: 0.00557\n",
      "Epoch: 475/500, Loss: 0.01184\n",
      "Epoch: 500/500, Loss: 0.00316\n",
      "Training complete! Model saved as 'trained_recipe_GPT2_model'\n"
     ]
    }
   ],
   "source": [
    "# Define file path\n",
    "file_path = \"processed_recipes_main.txt\"\n",
    "\n",
    "# Load the text file\n",
    "text = open(file_path, \"r\").read()\n",
    "\n",
    "# Tokenizer for GPT-2\n",
    "tokenizer = GPT2Tokenizer.from_pretrained(\"gpt2\")\n",
    "tokenizer.pad_token = tokenizer.eos_token\n",
    "\n",
    "# Encode the text\n",
    "encoded_text = tokenizer.encode(text, max_length=1024, truncation=True, padding=\"max_length\")\n",
    "encoded_tensor = torch.tensor(encoded_text).unsqueeze(0)\n",
    "\n",
    "# Prepare training dataset\n",
    "dataset = torch.utils.data.TensorDataset(encoded_tensor)\n",
    "dataloader = torch.utils.data.DataLoader(dataset, batch_size=8)\n",
    "\n",
    "# Create GPT-2 model\n",
    "model = GPT2LMHeadModel.from_pretrained(\"gpt2\")\n",
    "\n",
    "device = torch.device(\"cuda\" if torch.cuda.is_available() else \"cpu\")\n",
    "model.to(device)\n",
    "\n",
    "# Optimizer and learning rate scheduler\n",
    "optimizer = torch.optim.AdamW(model.parameters(), lr=2e-5)\n",
    "scheduler = torch.optim.lr_scheduler.StepLR(optimizer, step_size=500, gamma=0.1)\n",
    "\n",
    "epochs = 500\n",
    "training_loss_plt_arr = []\n",
    "\n",
    "for epoch in range(epochs):\n",
    "    epoch_loss = 0.0  # Track total loss for the epoch\n",
    "    model.train()\n",
    "    for batch in dataloader:\n",
    "        batch_input = batch[0].to(model.device)\n",
    "\n",
    "        optimizer.zero_grad()\n",
    "\n",
    "        outputs = model(input_ids=batch_input, labels=batch_input)\n",
    "        loss = outputs.loss\n",
    "\n",
    "        loss.backward()\n",
    "        optimizer.step()\n",
    "\n",
    "        epoch_loss += loss.item()\n",
    "\n",
    "    # Average epoch loss\n",
    "    epoch_loss /= len(dataloader)\n",
    "    training_loss_plt_arr.append(epoch_loss)\n",
    "\n",
    "    # Print training loss\n",
    "    if (epoch + 1) % 25 == 0:\n",
    "        print(f\"Epoch: {epoch + 1}/{epochs}, Loss: {epoch_loss:.5f}\")\n",
    "\n",
    "    # Adjust learning rate\n",
    "    scheduler.step()\n",
    "\n",
    "# Save the trained model\n",
    "model.save_pretrained(\"trained_recipe_GPT2_model\")\n",
    "\n",
    "print(\"Training complete! Model saved as 'trained_recipe_GPT2_model'\")"
   ]
  },
  {
   "cell_type": "code",
   "execution_count": 29,
   "id": "656d4423",
   "metadata": {},
   "outputs": [
    {
     "data": {
      "image/png": "[encoded data removed]",
      "text/plain": [
       "<Figure size 432x288 with 1 Axes>"
      ]
     },
     "metadata": {
      "needs_background": "light"
     },
     "output_type": "display_data"
    }
   ],
   "source": [
    "# Training loss visualisation\n",
    "lenLoss = len(training_loss_plt_arr) + 1\n",
    "# Plot the Training Loss graph\n",
    "plt.plot(range(1, lenLoss), training_loss_plt_arr,\n",
    "         label='Training Loss', color='blue')\n",
    "plt.xlabel('Epochs')\n",
    "plt.ylabel('Loss')\n",
    "plt.title('Training Loss over Epochs')\n",
    "plt.legend()\n",
    "plt.show()"
   ]
  },
  {
   "cell_type": "code",
   "execution_count": 43,
   "id": "505253d1",
   "metadata": {},
   "outputs": [
    {
     "name": "stdout",
     "output_type": "stream",
     "text": [
      "Perplexity: 1.003163703246063\n"
     ]
    }
   ],
   "source": [
    "# Perplexity Calculation\n",
    "import math\n",
    "\n",
    "def calculate_perplexity(loss):\n",
    "    return math.exp(loss)\n",
    "\n",
    "# Calculate perplexity from training loss\n",
    "training_loss = training_loss_plt_arr[-1]\n",
    "perplexity = calculate_perplexity(training_loss)\n",
    "print(f\"Perplexity: {perplexity}\")"
   ]
  },
  {
   "cell_type": "markdown",
   "id": "cb81deb9",
   "metadata": {},
   "source": [
    "A perplexity value close to 1 indicates that the model's predictions are nearly perfect. In natural language processing tasks, perplexity values below 10 are generally considered very good. A perplexity of 1.022 is exceptionally low, suggesting that your model performs extremely well in predicting the next token in the sequence based on the context provided.\n",
    "\n",
    "This low perplexity value indicates that the model has learned the underlying patterns and structures in the training data very effectively. It implies that the model can generate text with high fidelity to the training data and has a strong understanding of the language it was trained on.\n",
    "\n",
    "Overall, achieving such a low perplexity is a significant accomplishment and indicates the high quality of your trained model. It suggests that the model is likely to produce coherent and contextually relevant text when used for generation tasks."
   ]
  },
  {
   "cell_type": "code",
   "execution_count": 59,
   "id": "95735cc3",
   "metadata": {},
   "outputs": [
    {
     "name": "stdout",
     "output_type": "stream",
     "text": [
      "Recipe suggestion:\n",
      "\n",
      "Instructions:\n",
      "I'm craving a vegetarian Indian curry with lentils and aromatic spices. This is the best recipe for me. I also advise you from personal experience to use only the freshest seeds for the most delicious curry.\n",
      "\n",
      "If you are looking for a way to make a more Indian-inspired dish, try my recipe from one of my cookbooks. You will find that it is very easy to prepare and serve with any of the dishes you make. Make sure to add some chiles or onions as garnish. Let the curry cook over low heat for 15 minutes, stirring occasionally, Transfer the onions to food processor, Add chilies, garlic, ginger, cloves, peppercorns, cardamom seeds, cinnamon, coriander and cumin seeds and process until smooth, Strain through fine sieve Pour into baking pan or transfer to ice cream maker and blend until well blended, Return to pan and freeze until edges are solid but centre is soft  Transfer to processor and add chile paste, yogurt and cinnamon mix well, Simmer, covered for at least 2  6 hours in refrigerator, In skillet heat oil over medium heat until fragrant, Remove chicken pieces from the sauce and set aside Add rice to sauce, bring to boil, and cook, uncovered over high heat, 45 minutes or until chicken is tender, Drain chicken and put into plastic mold and let soften slightly to serve With rice, add raisins, cashews and almonds mix nicely, Marinate chicken in yogurt mixture with salt, loosely tied to shake jar, or in plastic wrap, for garnishing, Instructions Preheat oven to 350 degrees F. Line baking sheet with parchment paper. In large bowl, mix yogurt, cilantro or mint leaves, lemon juice, poppy seeds or cinnamon and mix very well. Set aside Pour yogurt into large serving dish and sprinkle with raisa leaves Mix well to taste, Align chicken with its pieces, placing chicken on a baking tray, spread out chicken, edges loosely,\n"
     ]
    }
   ],
   "source": [
    "import torch\n",
    "from transformers import GPT2LMHeadModel, GPT2Tokenizer\n",
    "\n",
    "# Load the trained model\n",
    "model_path = \"trained_recipe_GPT2_model\"\n",
    "tokenizer = GPT2Tokenizer.from_pretrained(\"gpt2\")\n",
    "model = GPT2LMHeadModel.from_pretrained(model_path)\n",
    "device = torch.device(\"cuda\" if torch.cuda.is_available() else \"cpu\")\n",
    "model.to(device)\n",
    "\n",
    "# Define input prompt\n",
    "input_prompt = \"I'm craving a vegetarian Indian curry with lentils and aromatic spices.\"\n",
    "\n",
    "# Tokenize input prompt\n",
    "input_ids = tokenizer.encode(input_prompt, return_tensors=\"pt\").to(device)\n",
    "\n",
    "# Generate recipe suggestion\n",
    "output = model.generate(\n",
    "    input_ids,\n",
    "    max_length=400,  # Increased max_length for more detailed output\n",
    "    num_return_sequences=1,\n",
    "    no_repeat_ngram_size=2,\n",
    "    top_p=0.95,\n",
    "    temperature=0.7,\n",
    "    do_sample=True,\n",
    "    top_k=50,\n",
    "    early_stopping=False,\n",
    "    pad_token_id=tokenizer.eos_token_id,\n",
    ")\n",
    "\n",
    "# Decode and print recipe suggestion\n",
    "recipe = output[0]\n",
    "generated_text = tokenizer.decode(recipe, skip_special_tokens=True)\n",
    "\n",
    "# Split the generated text into sections\n",
    "sections = generated_text.split(\":\")\n",
    "ingredient_section = None\n",
    "instruction_section = None\n",
    "serving_section = None\n",
    "\n",
    "# Extract relevant sections\n",
    "for section in sections:\n",
    "    section_lower = section.lower().strip()\n",
    "    if \"ingredient\" in section_lower or \"ingredients\" in section_lower:\n",
    "        ingredient_section = section\n",
    "    elif \"instruction\" in section_lower or \"direction\" in section_lower:\n",
    "        instruction_section = section\n",
    "    elif \"serving\" in section_lower or \"suggestion\" in section_lower:\n",
    "        serving_section = section\n",
    "\n",
    "# Print the extracted sections\n",
    "print(\"Recipe suggestion:\")\n",
    "if ingredient_section:\n",
    "    print(\"\\nIngredients:\")\n",
    "    print(ingredient_section.strip())\n",
    "if instruction_section:\n",
    "    print(\"\\nInstructions:\")\n",
    "    print(instruction_section.strip())\n",
    "if serving_section:\n",
    "    print(\"\\nServing Suggestions:\")\n",
    "    print(serving_section.strip())\n"
   ]
  },
  {
   "cell_type": "code",
   "execution_count": null,
   "id": "879ccb1a",
   "metadata": {},
   "outputs": [],
   "source": []
  }
 ],
 "metadata": {
  "kernelspec": {
   "display_name": "Python 3 (ipykernel)",
   "language": "python",
   "name": "python3"
  },
  "language_info": {
   "codemirror_mode": {
    "name": "ipython",
    "version": 3
   },
   "file_extension": ".py",
   "mimetype": "text/x-python",
   "name": "python",
   "nbconvert_exporter": "python",
   "pygments_lexer": "ipython3",
   "version": "3.9.6"
  }
 },
 "nbformat": 4,
 "nbformat_minor": 5
}
